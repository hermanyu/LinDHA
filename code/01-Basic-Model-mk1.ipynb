{
 "cells": [
  {
   "cell_type": "markdown",
   "id": "b95442ff-81d4-4d47-9433-fbeb6d1f395e",
   "metadata": {},
   "source": [
    "<br> \n",
    "\n",
    "# Linear Data Housing Appraiser (LinDHA) Mk. 1\n",
    "\n",
    "![mk1](../images/tony_stark_buildingmk1.jpg)\n",
    "\n",
    "Let's try to do a basic regression to predict sales price. We'll use all the numeric variables with a correlation above 0.2. If two variables are highly correlated, we'll pick one of them to keep and omit the other for the sake of keeping the model simple and easy to run.\n",
    "- ```1st Flr SF``` correlates strongly with ```Total Bsmt SF```, so we drop ```1st Flr SF```.\n",
    "- ```TotRms AbvGr``` correlates heavily with ```Gr Liv Area```, so we drop ```TotRms AbvGr```.\n",
    "- ```Garage Yr Blt``` corresponds highly with ```Year Built``` so we can drop ```Garage Yr Blt```.\n",
    "- ```Garage Car``` corresponds highly with ```Garage Area``` so we can drop ```Garage Car```.\n"
   ]
  },
  {
   "cell_type": "code",
   "execution_count": null,
   "id": "7447713a-8d53-46b1-a8ed-6b457b5aecfd",
   "metadata": {},
   "outputs": [],
   "source": [
    "# all the good stuff\n",
    "import numpy as np\n",
    "import pandas as pd\n",
    "import matplotlib.pyplot as plt\n",
    "import seaborn as sns\n",
    "\n",
    "# the stars of the show\n",
    "from sklearn.linear_model import LinearRegression\n",
    "from sklearn import metrics\n",
    "from sklearn.model_selection import train_test_split, cross_val_score\n",
    "\n",
    "\n",
    "\n",
    "pd.options.display.max_columns = 100\n",
    "pd.options.display.max_rows = 3000\n",
    "\n",
    "import PaulBettany as jarvis"
   ]
  },
  {
   "cell_type": "code",
   "execution_count": null,
   "id": "9ab8cd03-95e2-46e4-9198-49f12d66bcea",
   "metadata": {},
   "outputs": [],
   "source": [
    "# import data sets\n",
    "train = pd.read_csv('../data/train.csv')\n",
    "total = pd.read_csv('../data/ames-cleaned.csv', index_col='Id')"
   ]
  },
  {
   "cell_type": "code",
   "execution_count": null,
   "id": "331a2e84-d867-4903-b4ec-e18ff35fdd3e",
   "metadata": {},
   "outputs": [],
   "source": [
    "# list out features we want to use\n",
    "features = ['Lot Area', 'Overall Qual', 'Year Built', 'Year Remod/Add', 'Mas Vnr Area', 'BsmtFin SF 1',\n",
    "            'Total Bsmt SF', '2nd Flr SF', 'Gr Liv Area', 'Bsmt Full Bath', 'Full Bath', \n",
    "            'Half Bath', 'Bedroom AbvGr', 'Fireplaces', 'Garage Area', 'Wood Deck SF', \n",
    "            'Open Porch SF']\n",
    "\n",
    "len(features)"
   ]
  },
  {
   "cell_type": "code",
   "execution_count": null,
   "id": "378d555f-b19c-489d-82db-2be64ff2f561",
   "metadata": {},
   "outputs": [],
   "source": [
    "# create a Project with the data we will use\n",
    "lindhamk1 = jarvis.Project(total[features+['SalePrice']].iloc[:len(train.index)], total[features+['SalePrice']].iloc[len(train.index):], target='SalePrice', name='LinDHA Mk 1')"
   ]
  },
  {
   "cell_type": "code",
   "execution_count": null,
   "id": "a914f240-fdd7-4b5c-85d1-0f4f4af12bf8",
   "metadata": {},
   "outputs": [],
   "source": [
    "# check to see if we have the correct features\n",
    "lindhamk1.data.head()"
   ]
  },
  {
   "cell_type": "code",
   "execution_count": null,
   "id": "8aa28116-f952-4fbc-8bc4-02f9c40e6925",
   "metadata": {
    "tags": []
   },
   "outputs": [],
   "source": [
    "# attach a model to the Project\n",
    "lindhamk1.model = LinearRegression()\n",
    "\n",
    "# set the random seed of the project\n",
    "lindhamk1.seed = 42\n",
    "\n",
    "# prepare data for training and testing\n",
    "lindhamk1.prepare_data()"
   ]
  },
  {
   "cell_type": "code",
   "execution_count": null,
   "id": "8d285fb6-8785-487e-9816-e53112273a60",
   "metadata": {},
   "outputs": [],
   "source": [
    "# preview model performance before building\n",
    "lindhamk1.cross_val()"
   ]
  },
  {
   "cell_type": "code",
   "execution_count": null,
   "id": "27cf46b9-c08e-40c7-86aa-c6564203519b",
   "metadata": {},
   "outputs": [],
   "source": [
    "# build the Mk. 1\n",
    "lindhamk1.prototype()"
   ]
  },
  {
   "cell_type": "code",
   "execution_count": null,
   "id": "c6e59f8b-37a0-4265-951e-d1b5f9214693",
   "metadata": {},
   "outputs": [],
   "source": [
    "# grade the model with our metrics\n",
    "lindhamk1.grade()"
   ]
  },
  {
   "cell_type": "markdown",
   "id": "6c0c6b00-2c99-4ccf-8f54-195cbbca7a31",
   "metadata": {},
   "source": [
    "- Using only the 17 highest correlated numerical features, we were able to get a mean absolute error of around 20,000 dollars."
   ]
  },
  {
   "cell_type": "code",
   "execution_count": null,
   "id": "fe60a0ec-0f8f-4a00-a050-1370a311031e",
   "metadata": {},
   "outputs": [],
   "source": [
    "lindhamk1.plot_residuals(slice='both')\n",
    "\n",
    "\n",
    "################################## Code to Export Presentation Graphic ##########################\n",
    "#\n",
    "#plt.figure(figsize = (15,8));\n",
    "# \n",
    "#plt.scatter(x=lindhamk1.y_trainpred, y=lindhamk1.train_errors, s=5);\n",
    "#plt.axhline(y=0, c='red', linestyle='--');\n",
    "#plt.xticks(c='white');\n",
    "#plt.yticks(c='white');\n",
    "#plt.title('Mk 1 (Training Residuals)', c='white', fontsize=30);\n",
    "#plt.xlabel('Predicted Price', c='white', fontsize=25);\n",
    "#plt.ylabel('Error', c='white', fontsize=25);\n",
    "#\n",
    "#plt.savefig('../images/mk1-residuals.png');\n",
    "#\n",
    "##########################################################################################"
   ]
  },
  {
   "cell_type": "markdown",
   "id": "b38761be-7101-4d52-878d-489332389103",
   "metadata": {},
   "source": [
    "- Quite clearly, the issues is **underfitting**. There seems to be some inherent curvature to the errors/residuals which our model has not been fully able to capture.\n",
    "- Of course, this is to be expected since we only used 17 numerical features to try and fit dataset with thousands of points. In other words, using only 17 numerical features (with no polynomial/interaction terms) means our model lacks the sophistication and **capacity** to properly express the relationship in the data.\n",
    "\n",
    "With these considerations, it might be a good idea to introduce more features. This is what we shall do in the Mk. 2 model in the next notebok."
   ]
  },
  {
   "cell_type": "code",
   "execution_count": null,
   "id": "c848fd03-17f2-434d-b203-c70916e6091c",
   "metadata": {},
   "outputs": [],
   "source": [
    "# take a look at the parameters the model learned\n",
    "lindhamk1.parameters"
   ]
  },
  {
   "cell_type": "markdown",
   "id": "e5cc5f5f-f54f-4997-ad98-61fb12fab027",
   "metadata": {},
   "source": [
    "Interestingly, we see some negative coefficients attached to variables that we didn't expect: ```2nd Flr SF```, ```Full Bath```, ```Half Bath```, and ```Bedroom AbvGr```. The model is telling us that increasing the number of bathrooms/bedrooms and 2nd floor square footage will somehow drive the price down.\n",
    "\n",
    "This does not make any sense so either:\n",
    "1) This really is how real-estate works (and we are learning something new).\n",
    "2) The LINE-M assumptions are being violated and the true relationship between the features and target are being muddied.\n",
    "\n",
    "Without any domain knowledge, we can't rule out hypothesis 1 for certain, but it does much more likely the LINE-M assumptions are not being met. However, since this doesn't technically hurt the model's predictive power, we will push-on without worrying about how to fix the LINE-M violations."
   ]
  },
  {
   "cell_type": "code",
   "execution_count": null,
   "id": "1a88ef8a-04d1-4ece-994a-aed92021ab06",
   "metadata": {},
   "outputs": [],
   "source": [
    "lindhamk1.build_model()"
   ]
  },
  {
   "cell_type": "code",
   "execution_count": null,
   "id": "ba34375e-7502-49a3-9172-9f3575fd917e",
   "metadata": {},
   "outputs": [],
   "source": [
    "# save our work\n",
    "lindhamk1.save(csv=False, pkl_path='../saved-files/lindhamk1.pkl')"
   ]
  },
  {
   "cell_type": "code",
   "execution_count": null,
   "id": "1316f4ee-889e-401c-803b-aa361c736055",
   "metadata": {},
   "outputs": [],
   "source": []
  },
  {
   "cell_type": "code",
   "execution_count": null,
   "id": "c1a6bf97-2afe-492d-ab00-df1a190c5728",
   "metadata": {},
   "outputs": [],
   "source": []
  }
 ],
 "metadata": {
  "kernelspec": {
   "display_name": "Python 3 (ipykernel)",
   "language": "python",
   "name": "python3"
  },
  "language_info": {
   "codemirror_mode": {
    "name": "ipython",
    "version": 3
   },
   "file_extension": ".py",
   "mimetype": "text/x-python",
   "name": "python",
   "nbconvert_exporter": "python",
   "pygments_lexer": "ipython3",
   "version": "3.9.7"
  }
 },
 "nbformat": 4,
 "nbformat_minor": 5
}
