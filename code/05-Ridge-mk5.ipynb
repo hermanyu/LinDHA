{
 "cells": [
  {
   "cell_type": "markdown",
   "id": "928504c1-d4e7-4d99-8c70-b8413c003025",
   "metadata": {},
   "source": [
    "# LinDHA Mk. 4 (Ridge)\n",
    "\n",
    "Since LASSO may have been throwing too much away, we want to change the penalty term in the cost function to something which encourages using many features delicately, rather than using only a few features exclusively. The answer is to change the $L_1$-penalty term to an $L_2$-penalty term. Doing this gets us the Ridge model:\n",
    "\n",
    "$$ \\min_{\\beta} \\frac{1}{m}\\sum_{i=1}^{m}\\left( y^{(i)}-h_{\\beta}(x^{(i)})\\right)^2 + \\frac{\\alpha}{2}\\sum_{i=1}^{n}\\left(\\beta_i \\right)^2 $$"
   ]
  },
  {
   "cell_type": "code",
   "execution_count": 2,
   "id": "e5479f80-c3c7-4a96-a5df-cb949f93d9e3",
   "metadata": {},
   "outputs": [],
   "source": [
    "import numpy as np\n",
    "import pandas as pd\n",
    "import matplotlib.pyplot as plt\n",
    "import seaborn as sns\n",
    "\n",
    "from sklearn.linear_model import LinearRegression\n",
    "from sklearn.linear_model import Ridge\n",
    "\n",
    "\n",
    "from sklearn import metrics\n",
    "from sklearn.preprocessing import StandardScaler, PolynomialFeatures\n",
    "from sklearn.model_selection import train_test_split, cross_val_score, GridSearchCV\n",
    "from sklearn.pipeline import Pipeline\n",
    "\n",
    "import joblib\n",
    "\n",
    "import PaulBettany as jarvis\n",
    "\n",
    "\n",
    "pd.options.display.max_columns = 100\n",
    "pd.options.display.max_rows = 2000\n",
    "\n",
    "\n",
    "seed=1\n",
    "score = 'neg_mean_absolute_error'"
   ]
  },
  {
   "cell_type": "markdown",
   "id": "96e934e1-5d56-477b-aa8b-adc0c030350f",
   "metadata": {},
   "source": [
    "## Ridge and Tuning for $\\alpha$"
   ]
  },
  {
   "cell_type": "code",
   "execution_count": 3,
   "id": "bb948a76-3f2d-4501-b1db-1fec56ce8523",
   "metadata": {},
   "outputs": [],
   "source": [
    "# The data sets have gotten huge and take a moment to load-in\n",
    "train = pd.read_csv('../data/train.csv', index_col = 'Id').drop(index=2181)\n",
    "data = pd.read_csv('../data/ames-poly-engineered.csv', index_col = 'Id')"
   ]
  },
  {
   "cell_type": "code",
   "execution_count": 4,
   "id": "c17553f4-3761-4da8-a9f8-8933272f63bf",
   "metadata": {},
   "outputs": [
    {
     "name": "stdout",
     "output_type": "stream",
     "text": [
      "(2050, 80) (2928, 42194)\n"
     ]
    }
   ],
   "source": [
    "print(train.shape, data.shape)"
   ]
  },
  {
   "cell_type": "code",
   "execution_count": 5,
   "id": "b35ad8de-8c3d-4573-a3cd-804957ed9b43",
   "metadata": {},
   "outputs": [],
   "source": [
    "# prepare data\n",
    "X = data.iloc[ : len(train.index) ]\n",
    "Xkaggle = data.iloc[ len(train.index) : ]\n",
    "\n",
    "y = train['SalePrice']\n",
    "\n",
    "X_train, X_test, y_train, y_test = train_test_split(X, y, test_size=0.2, random_state=seed)"
   ]
  },
  {
   "cell_type": "code",
   "execution_count": 6,
   "id": "b8e3ff40-f752-477d-8ea3-4c44aecd40ad",
   "metadata": {},
   "outputs": [],
   "source": [
    "# scale data\n",
    "zscale = StandardScaler()\n",
    "\n",
    "Xs_train = zscale.fit_transform(X_train)\n",
    "Xs_test = zscale.transform(X_test)\n",
    "Xs_kaggle = zscale.transform(Xkaggle)\n"
   ]
  },
  {
   "cell_type": "code",
   "execution_count": 7,
   "id": "84117926-ac66-4342-ab23-d3ce9d9152da",
   "metadata": {},
   "outputs": [],
   "source": [
    "# list of parameter values to search\n",
    "params = { 'alpha' : [500, 600, 800, 1000, 2000] }"
   ]
  },
  {
   "cell_type": "code",
   "execution_count": 8,
   "id": "dab14493-8176-4119-9999-f6b5c71b667e",
   "metadata": {},
   "outputs": [
    {
     "name": "stdout",
     "output_type": "stream",
     "text": [
      "{'alpha': [500, 600, 800, 1000, 2000]}\n"
     ]
    }
   ],
   "source": [
    "print(params)"
   ]
  },
  {
   "cell_type": "code",
   "execution_count": 9,
   "id": "86e1a304-164e-437e-8dc7-c184b8a349fe",
   "metadata": {},
   "outputs": [],
   "source": [
    "lindhamk5_1 = GridSearchCV(Ridge(max_iter=10_000),\n",
    "                         param_grid=params,\n",
    "                         n_jobs=-1,\n",
    "                         scoring = score,\n",
    "                         cv = 3\n",
    "                        )"
   ]
  },
  {
   "cell_type": "code",
   "execution_count": 10,
   "id": "12fec3a7-7953-4709-bf69-277bdff59de0",
   "metadata": {},
   "outputs": [
    {
     "data": {
      "text/plain": [
       "GridSearchCV(cv=3, estimator=Ridge(max_iter=10000), n_jobs=-1,\n",
       "             param_grid={'alpha': [500, 600, 800, 1000, 2000]},\n",
       "             scoring='neg_mean_absolute_error')"
      ]
     },
     "execution_count": 10,
     "metadata": {},
     "output_type": "execute_result"
    }
   ],
   "source": [
    "# conduct search\n",
    "lindhamk5_1.fit(Xs_train, y_train)"
   ]
  },
  {
   "cell_type": "code",
   "execution_count": 11,
   "id": "89e02cdc-f406-4de7-868f-aa167585cdf3",
   "metadata": {},
   "outputs": [
    {
     "data": {
      "text/plain": [
       "Ridge(alpha=2000, max_iter=10000)"
      ]
     },
     "execution_count": 11,
     "metadata": {},
     "output_type": "execute_result"
    }
   ],
   "source": [
    "lindhamk5_1.best_estimator_"
   ]
  },
  {
   "cell_type": "code",
   "execution_count": 12,
   "id": "42c043b3-b4eb-4d73-b880-920b343e9280",
   "metadata": {},
   "outputs": [
    {
     "name": "stdout",
     "output_type": "stream",
     "text": [
      " \n",
      "R2 :0.989294119958519\n",
      "MSE: 66622182.97861327\n",
      "RMSE: 8162.241296274772\n",
      "MAE: 4834.754119245182\n",
      " \n",
      " \n",
      "R2 :0.893359686584041\n",
      "MSE: 694877507.3245612\n",
      "RMSE: 26360.529344543924\n",
      "MAE: 15686.908447986978\n",
      " \n"
     ]
    }
   ],
   "source": [
    "jarvis.grade_model(lindhamk5_1, Xs_train, y_train, display=True), jarvis.grade_model(lindhamk5_1, Xs_test, y_test, display=True);"
   ]
  },
  {
   "cell_type": "code",
   "execution_count": 13,
   "id": "e13ad809-6819-4e81-9da1-ef869a5947d6",
   "metadata": {},
   "outputs": [],
   "source": [
    "# new list of search values\n",
    "params2 = { 'alpha' : [2000, 2500, 3000, 3500, 4000, 6000] }"
   ]
  },
  {
   "cell_type": "code",
   "execution_count": 14,
   "id": "46b401f5-e3b2-4487-a550-cc160220145d",
   "metadata": {},
   "outputs": [],
   "source": [
    "lindhamk5_2 = GridSearchCV(Ridge(max_iter=10_000),\n",
    "                         param_grid=params2,\n",
    "                         n_jobs=-1,\n",
    "                         scoring = score,\n",
    "                         cv = 3\n",
    "                        )"
   ]
  },
  {
   "cell_type": "code",
   "execution_count": 15,
   "id": "91302324-5c22-4b22-a6b5-7227b73ac417",
   "metadata": {},
   "outputs": [
    {
     "data": {
      "text/plain": [
       "GridSearchCV(cv=3, estimator=Ridge(max_iter=10000), n_jobs=-1,\n",
       "             param_grid={'alpha': [2000, 2500, 3000, 3500, 4000, 6000]},\n",
       "             scoring='neg_mean_absolute_error')"
      ]
     },
     "execution_count": 15,
     "metadata": {},
     "output_type": "execute_result"
    }
   ],
   "source": [
    "lindhamk5_2.fit(Xs_train, y_train)"
   ]
  },
  {
   "cell_type": "code",
   "execution_count": 16,
   "id": "27e587c8-f3f4-4bf0-852b-f5ac835dbf9a",
   "metadata": {},
   "outputs": [
    {
     "data": {
      "text/plain": [
       "Ridge(alpha=4000, max_iter=10000)"
      ]
     },
     "execution_count": 16,
     "metadata": {},
     "output_type": "execute_result"
    }
   ],
   "source": [
    "lindhamk5_2.best_estimator_"
   ]
  },
  {
   "cell_type": "code",
   "execution_count": 17,
   "id": "2b073d59-c8ae-4307-9433-732c47e45844",
   "metadata": {},
   "outputs": [
    {
     "name": "stdout",
     "output_type": "stream",
     "text": [
      " \n",
      "R2 :0.9842776050735805\n",
      "MSE: 97839716.82771002\n",
      "RMSE: 9891.396101042057\n",
      "MAE: 6160.830685246997\n",
      " \n",
      " \n",
      "R2 :0.8966154396991309\n",
      "MSE: 673662738.3820372\n",
      "RMSE: 25955.013742667084\n",
      "MAE: 15359.451813550993\n",
      " \n"
     ]
    }
   ],
   "source": [
    "jarvis.grade_model(lindhamk5_2, Xs_train, y_train, display=True), jarvis.grade_model(lindhamk5_2, Xs_test, y_test, display=True);"
   ]
  },
  {
   "cell_type": "code",
   "execution_count": 18,
   "id": "025a4770-518e-45b7-96fa-f82088f1328f",
   "metadata": {},
   "outputs": [],
   "source": [
    "# one more search?\n",
    "params3 = { 'alpha' : list(range(3800, 5000,50)) }\n",
    "\n",
    "lindhamk5_3 = GridSearchCV(Ridge(max_iter=10_000),\n",
    "                         param_grid=params3,\n",
    "                         n_jobs=-1,\n",
    "                         scoring = score,\n",
    "                         cv = 3\n",
    "                        )\n",
    "                           "
   ]
  },
  {
   "cell_type": "code",
   "execution_count": 19,
   "id": "91db97d3-8f44-47f8-b724-77b981702cf3",
   "metadata": {},
   "outputs": [
    {
     "data": {
      "text/plain": [
       "GridSearchCV(cv=3, estimator=Ridge(max_iter=10000), n_jobs=-1,\n",
       "             param_grid={'alpha': [3800, 3850, 3900, 3950, 4000, 4050, 4100,\n",
       "                                   4150, 4200, 4250, 4300, 4350, 4400, 4450,\n",
       "                                   4500, 4550, 4600, 4650, 4700, 4750, 4800,\n",
       "                                   4850, 4900, 4950]},\n",
       "             scoring='neg_mean_absolute_error')"
      ]
     },
     "execution_count": 19,
     "metadata": {},
     "output_type": "execute_result"
    }
   ],
   "source": [
    "lindhamk5_3.fit(Xs_train, y_train)"
   ]
  },
  {
   "cell_type": "code",
   "execution_count": 20,
   "id": "8489580c-dccd-4a80-a6c8-e268dd9f53e3",
   "metadata": {},
   "outputs": [
    {
     "data": {
      "text/plain": [
       "Ridge(alpha=4100, max_iter=10000)"
      ]
     },
     "execution_count": 20,
     "metadata": {},
     "output_type": "execute_result"
    }
   ],
   "source": [
    "lindhamk5_3.best_estimator_"
   ]
  },
  {
   "cell_type": "code",
   "execution_count": 21,
   "id": "3be3f0c8-6fab-4777-b582-72ca8171c51f",
   "metadata": {},
   "outputs": [
    {
     "name": "stdout",
     "output_type": "stream",
     "text": [
      " \n",
      "R2 :0.984069187046379\n",
      "MSE: 99136692.31131941\n",
      "RMSE: 9956.74104872269\n",
      "MAE: 6211.220273701309\n",
      " \n",
      " \n",
      "R2 :0.8967158319847416\n",
      "MSE: 673008573.5643889\n",
      "RMSE: 25942.408784929532\n",
      "MAE: 15350.248562467748\n",
      " \n"
     ]
    }
   ],
   "source": [
    "jarvis.grade_model(lindhamk5_3, Xs_train, y_train, display=True), jarvis.grade_model(lindhamk5_3, Xs_test, y_test, display=True);"
   ]
  },
  {
   "cell_type": "code",
   "execution_count": 22,
   "id": "516f5c3c-21c8-4270-818a-6ff9207e7349",
   "metadata": {},
   "outputs": [
    {
     "data": {
      "text/plain": [
       "25761"
      ]
     },
     "execution_count": 22,
     "metadata": {},
     "output_type": "execute_result"
    }
   ],
   "source": [
    "jarvis.support(lindhamk5_3.best_estimator_)"
   ]
  },
  {
   "cell_type": "markdown",
   "id": "53d26a58-d1a3-4a0d-a2eb-888f895baba1",
   "metadata": {},
   "source": [
    "## Dialing Back The Feature Space\n",
    "\n",
    "We remarked in the LASSO notebook that the 42,000+ features were not actually good because we polynomial transformed the dummy variables, leading to many redundant and straight-up duplicate columns. We can attempt to dial it back by running Ridge against a much more reasonable and tame 298 feature dataframe."
   ]
  },
  {
   "cell_type": "code",
   "execution_count": 23,
   "id": "5d2f1b06-2e24-4723-a285-f1a83a3d4701",
   "metadata": {},
   "outputs": [],
   "source": [
    "data = pd.read_csv('../data/ames-engineered.csv', index_col = 'Id').drop(columns='SalePrice')"
   ]
  },
  {
   "cell_type": "code",
   "execution_count": 24,
   "id": "7c9d9bf5-1f4a-4ab9-a3d3-cb6ac49bf7ca",
   "metadata": {},
   "outputs": [],
   "source": [
    "data['MS SubClass'] = data['MS SubClass'].astype('object')"
   ]
  },
  {
   "cell_type": "code",
   "execution_count": 25,
   "id": "af5449ce-9a74-4f18-bd2b-f382efc9a4b8",
   "metadata": {},
   "outputs": [
    {
     "name": "stderr",
     "output_type": "stream",
     "text": [
      "C:\\Users\\herma\\anaconda3\\lib\\site-packages\\pandas\\core\\algorithms.py:798: FutureWarning: In a future version, the Index constructor will not infer numeric dtypes when passed object-dtype sequences (matching Series behavior)\n",
      "  uniques = Index(uniques)\n"
     ]
    }
   ],
   "source": [
    "data_dummies = pd.get_dummies(data, drop_first=True)"
   ]
  },
  {
   "cell_type": "code",
   "execution_count": 26,
   "id": "48b0f6aa-d740-44f9-8469-3a0dc76596e4",
   "metadata": {},
   "outputs": [
    {
     "data": {
      "text/plain": [
       "(2928, 298)"
      ]
     },
     "execution_count": 26,
     "metadata": {},
     "output_type": "execute_result"
    }
   ],
   "source": [
    "data_dummies.shape"
   ]
  },
  {
   "cell_type": "code",
   "execution_count": 27,
   "id": "7fc6dbf7-8be1-43ad-8118-4545ad5e3855",
   "metadata": {},
   "outputs": [],
   "source": [
    "X = data_dummies.iloc[ : len(train.index) ]\n",
    "Xkaggle = data_dummies.iloc[ len(train.index) : ]\n",
    "\n",
    "X_train, X_test, y_train, y_test = train_test_split(X, y, test_size=0.2, random_state=seed)\n",
    "\n",
    "Xs_train = zscale.fit_transform(X_train)\n",
    "Xs_test = zscale.transform(X_test)\n",
    "Xs_kaggle = zscale.transform(Xkaggle)"
   ]
  },
  {
   "cell_type": "code",
   "execution_count": 28,
   "id": "3d6931bd-7aa2-4596-9876-f73cb8088ed5",
   "metadata": {},
   "outputs": [
    {
     "name": "stdout",
     "output_type": "stream",
     "text": [
      " \n",
      "R2 :0.9287614473406154\n",
      "MSE: 443314129.4331693\n",
      "RMSE: 21055.02622732086\n",
      "MAE: 13903.527516677803\n",
      " \n",
      " \n",
      "R2 :0.8877372302317402\n",
      "MSE: 731513919.2965387\n",
      "RMSE: 27046.513995273748\n",
      "MAE: 16834.64797220781\n",
      " \n"
     ]
    }
   ],
   "source": [
    "params4 = { 'alpha' : list(range(100,500,10)) }\n",
    "\n",
    "\n",
    "lindhamk5_4 = GridSearchCV(Ridge(max_iter=10_000),\n",
    "                         param_grid=params4,\n",
    "                         n_jobs=-1,\n",
    "                         scoring = score,\n",
    "                         cv = 3\n",
    "                        )\n",
    "\n",
    "lindhamk5_4.fit(Xs_train, y_train)\n",
    "\n",
    "jarvis.grade_model(lindhamk5_4, Xs_train, y_train, display=True), jarvis.grade_model(lindhamk5_4, Xs_test, y_test, display=True);"
   ]
  },
  {
   "cell_type": "code",
   "execution_count": 29,
   "id": "bb54bf8c-a52b-4c32-86cb-1cdf18da36e0",
   "metadata": {},
   "outputs": [
    {
     "data": {
      "text/plain": [
       "Ridge(alpha=290, max_iter=10000)"
      ]
     },
     "execution_count": 29,
     "metadata": {},
     "output_type": "execute_result"
    }
   ],
   "source": [
    "lindhamk5_4.best_estimator_"
   ]
  },
  {
   "cell_type": "markdown",
   "id": "65c3d3f6-463d-42d0-9dc7-f1b989ab710d",
   "metadata": {},
   "source": [
    "We see that the Mk. 5.4 with Ridge is still not performing as well as the Mk. 4 with LASSO. At the moment we're not sure what is causing this discrepancy. Maybe some feature engineering can make Ridge viable and competitive with the LASSO model, but this remains to be seen."
   ]
  },
  {
   "cell_type": "code",
   "execution_count": null,
   "id": "f981fc64-a1a3-40cb-8c39-440fdc134f18",
   "metadata": {},
   "outputs": [],
   "source": []
  },
  {
   "cell_type": "code",
   "execution_count": null,
   "id": "ec8a8b0c-4a0e-4675-be0a-de21018492ea",
   "metadata": {},
   "outputs": [],
   "source": []
  },
  {
   "cell_type": "code",
   "execution_count": null,
   "id": "d1ed2f0f-badd-4e0f-b331-e8e4ab55a433",
   "metadata": {},
   "outputs": [],
   "source": []
  }
 ],
 "metadata": {
  "kernelspec": {
   "display_name": "Python 3 (ipykernel)",
   "language": "python",
   "name": "python3"
  },
  "language_info": {
   "codemirror_mode": {
    "name": "ipython",
    "version": 3
   },
   "file_extension": ".py",
   "mimetype": "text/x-python",
   "name": "python",
   "nbconvert_exporter": "python",
   "pygments_lexer": "ipython3",
   "version": "3.9.7"
  }
 },
 "nbformat": 4,
 "nbformat_minor": 5
}
