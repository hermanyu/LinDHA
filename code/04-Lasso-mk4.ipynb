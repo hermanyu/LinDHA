{
 "cells": [
  {
   "cell_type": "markdown",
   "id": "beb55899-e110-4bdd-918d-a3bfb0ea3150",
   "metadata": {},
   "source": [
    "# LinDHA Mk 4 (LASSO)\n",
    "\n",
    "In this notebook, we automate the feature search process usin regularization.\n",
    "\n",
    "Specifically, rather than try to engineer and test different bundles of features by hand, we'll automate the process somewhat using LASSO.\n",
    "- LASSO adds an $L_1$-penalty term for each coefficient in the cost function. This additional contraint will generally force the model to find an optimal solution where unimportant coefficients will be set to 0 and highly corralated coefficients are purge in favor of a single respresentative.\n",
    "- In short, LASSO throws away unimportant and redundant features. This reduces the dimensionality and tames a lot of the overfitting coming from having too many features.\n",
    "\n",
    "The basic idea is to overload the model's capacity using an absurdly large amount of polynomial features, and let the model use LASSO to decide which features are the most cost-effective to keep and which features to drop. \n",
    "\n",
    "Since we plan on increasing the number of features (into the 30,000+ range!), the dataframes will also grow obscenely large. Unfortunately our ```Project``` class was not optimized to deal with data structures this huge (since it stores multiple redundant copies of the same dataframe for version control purposes). As such we'll have to abandon using it from here on out (at least until the we can successfully optimize class and how the data is stored)."
   ]
  },
  {
   "cell_type": "code",
   "execution_count": 1,
   "id": "10a939a6-99ce-44ca-8bfa-25f8bf7ec30f",
   "metadata": {},
   "outputs": [],
   "source": [
    "import numpy as np\n",
    "import pandas as pd\n",
    "import matplotlib.pyplot as plt\n",
    "import seaborn as sns\n",
    "\n",
    "from sklearn.linear_model import LinearRegression\n",
    "from sklearn.linear_model import Lasso, LassoCV\n",
    "\n",
    "\n",
    "from sklearn import metrics\n",
    "from sklearn.preprocessing import StandardScaler, PolynomialFeatures\n",
    "from sklearn.model_selection import train_test_split, cross_val_score, GridSearchCV\n",
    "from sklearn.pipeline import Pipeline\n",
    "\n",
    "import joblib\n",
    "\n",
    "import PaulBettany as jarvis\n",
    "\n",
    "\n",
    "pd.options.display.max_columns = 100\n",
    "pd.options.display.max_rows = 2000\n",
    "\n",
    "\n",
    "seed=1"
   ]
  },
  {
   "cell_type": "markdown",
   "id": "7a6046c4-a420-4391-ba47-f426ef4a0ebe",
   "metadata": {},
   "source": [
    "## 4.1 The Overfitting Problem"
   ]
  },
  {
   "cell_type": "code",
   "execution_count": 2,
   "id": "2487fba0-05ad-4cf1-b918-c549886094b3",
   "metadata": {},
   "outputs": [],
   "source": [
    "# read in data\n",
    "\n",
    "train = pd.read_csv('../data/train.csv', index_col = 'Id')\n",
    "data = pd.read_csv('../data/ames-cleaned.csv', index_col = 'Id').drop(columns='SalePrice')\n",
    "\n",
    "# set up some useful variables\n",
    "y = train['SalePrice']\n",
    "\n",
    "m = len(train.index)\n",
    "\n",
    "# cast MS SubClass as a categorical variable.\n",
    "data['MS SubClass'] = data['MS SubClass'].astype('object')"
   ]
  },
  {
   "cell_type": "code",
   "execution_count": 3,
   "id": "a4b71d6a-db18-4447-b52d-571c56a99665",
   "metadata": {},
   "outputs": [
    {
     "name": "stderr",
     "output_type": "stream",
     "text": [
      "C:\\Users\\herma\\anaconda3\\lib\\site-packages\\pandas\\core\\algorithms.py:798: FutureWarning: In a future version, the Index constructor will not infer numeric dtypes when passed object-dtype sequences (matching Series behavior)\n",
      "  uniques = Index(uniques)\n"
     ]
    }
   ],
   "source": [
    "# one-hot encoding of categoricals\n",
    "data_dummies = pd.get_dummies(data, drop_first=True)"
   ]
  },
  {
   "cell_type": "code",
   "execution_count": 4,
   "id": "a2583c0f-d6dc-4f1a-af8a-b6d247c8a93e",
   "metadata": {},
   "outputs": [
    {
     "data": {
      "text/plain": [
       "(2929, 275)"
      ]
     },
     "execution_count": 4,
     "metadata": {},
     "output_type": "execute_result"
    }
   ],
   "source": [
    "data_dummies.shape"
   ]
  },
  {
   "cell_type": "markdown",
   "id": "c2cdd9d2-631e-46d3-a25c-40de85d91b0b",
   "metadata": {},
   "source": [
    "- We notice 2929 rows and 275 columns (the large number of rows is because the unlabeled Kaggle data is attached to the training set). We slice them out now to extract the training set we desire."
   ]
  },
  {
   "cell_type": "code",
   "execution_count": 5,
   "id": "610c511d-a87c-4703-a97c-f36c8255e33f",
   "metadata": {},
   "outputs": [],
   "source": [
    "# slice labeled data from unlabeled data (i.e. the kaggle set)\n",
    "X = data_dummies[ : m ]\n",
    "Xkaggle = data_dummies[ m : ]"
   ]
  },
  {
   "cell_type": "code",
   "execution_count": 6,
   "id": "606285a1-1b97-4874-8878-b3a65931dce0",
   "metadata": {},
   "outputs": [
    {
     "data": {
      "text/plain": [
       "(2051, 275)"
      ]
     },
     "execution_count": 6,
     "metadata": {},
     "output_type": "execute_result"
    }
   ],
   "source": [
    "X.shape"
   ]
  },
  {
   "cell_type": "markdown",
   "id": "4e5a8ac3-ae79-4cf2-87f2-74a4fb428a4c",
   "metadata": {},
   "source": [
    "\n",
    "- With 275 columns, it is not feasible to check all possible combinations of features by hand. We could just try to use all the features and we will do so now to illustrate the point of LASSO."
   ]
  },
  {
   "cell_type": "code",
   "execution_count": 7,
   "id": "7d113225-94b7-455b-af77-3a6926cbf3f5",
   "metadata": {},
   "outputs": [
    {
     "name": "stdout",
     "output_type": "stream",
     "text": [
      "[0.7587761  0.70624897 0.22206393 0.80977173 0.15181886]\n",
      " \n",
      "R2 :0.946817362858933\n",
      "MSE: 324669595.78350323\n",
      "RMSE: 18018.590282913457\n",
      "MAE: 12458.02164184778\n",
      " \n",
      " \n",
      "R2 :0.8760927124233077\n",
      "MSE: 863439531.4163644\n",
      "RMSE: 29384.34160256725\n",
      "MAE: 17522.113549197216\n",
      " \n"
     ]
    }
   ],
   "source": [
    "# build a mock LinearRegression() model to see the overfitting problem\n",
    "X_train, X_test, y_train, y_test = train_test_split(X, y, test_size = 0.2, random_state=seed)\n",
    "\n",
    "prototype = LinearRegression()\n",
    "\n",
    "print(cross_val_score(prototype, X_train, y_train))\n",
    "\n",
    "prototype.fit(X_train, y_train)\n",
    "\n",
    "jarvis.grade_model(prototype, X_train, y_train, display=True), jarvis.grade_model(prototype, X_test, y_test, display=True);\n"
   ]
  },
  {
   "cell_type": "markdown",
   "id": "5de07dee-e94d-49fc-976a-772403a1174a",
   "metadata": {},
   "source": [
    "- It is quite clear that the model is overfitting from having 275 features. We would like to either drop some of the useless features or at least replace them with more useful ones. \n"
   ]
  },
  {
   "cell_type": "markdown",
   "id": "6cbfac8f-6495-4f94-973d-9754ef6f5a71",
   "metadata": {},
   "source": [
    "## 4.2 All Features on the Table\n",
    "\n",
    "What we will do is engineer all the polynomial features at once and then systematically eliminate the useless ones until we get a model we like.\n",
    "\n",
    "**Warning:** we will call the ```PolynomialFeatures()``` class from ```sklearn``` directly on to the dataframe we currently have. *This is bad practice* because the dataframe we currently have contains dummy variables. What this means: if we try to fit our polynomial transformer onto this data set, *we get polynomial terms for the dummy variables*. This is not good practice because:\n",
    "- a lot of these dummy polynomial terms will be all 0's if they are interactions between 2 mutually exclusive classes. This eats up memory and processing time for what is essentially an empty column of 0's.\n",
    "- square terms of dummy columns are just the same as the original columns. This quite literally produces a cloned/duplicate copy of the dummy column which again eats up memory and processing time.\n",
    "\n",
    "With that being said, LASSO actually can throw away all these useless and duplicate columns, so we go ahead and proceed anyways, but it is generally not recommended for us to do so on other models (e.g. Ridge!). The point is that fitting the polynomial transform onto our data set will give us the interaction/cross-terms between categories, e.g. ```Exter Qual_Ex * Exter Cond_Ex```, which is what we want."
   ]
  },
  {
   "cell_type": "code",
   "execution_count": 8,
   "id": "fc53fef2-5c04-4896-aa7b-20d2b897e171",
   "metadata": {},
   "outputs": [],
   "source": [
    "# get polynomial features\n",
    "poly = PolynomialFeatures(degree=2, # This is the default setting but we explicitly state it here for clarity\n",
    "                          include_bias=False)\n",
    "\n",
    "data_poly = pd.DataFrame(poly.fit_transform(data_dummies), index=data_dummies.index, columns=poly.get_feature_names_out(data_dummies.columns))\n",
    "\n",
    "X_poly = data_poly[ : m ]\n",
    "Xkaggle = data_poly[ m : ]\n",
    "\n",
    "X_train, X_test, y_train, y_test = train_test_split(X_poly, y, test_size=0.2, random_state=seed)"
   ]
  },
  {
   "cell_type": "code",
   "execution_count": 9,
   "id": "38296947-491c-4b7e-b330-fccb9910b833",
   "metadata": {},
   "outputs": [
    {
     "data": {
      "text/plain": [
       "(2051, 38225)"
      ]
     },
     "execution_count": 9,
     "metadata": {},
     "output_type": "execute_result"
    }
   ],
   "source": [
    "X_poly.shape"
   ]
  },
  {
   "cell_type": "markdown",
   "id": "b0d9850d-98b4-4a48-a45f-c52f034d23ff",
   "metadata": {},
   "source": [
    "- We now have 38,225 features. That is over $ 2^{38,000} $ possible combinations of features to check.\n",
    "- For reference: even if we could check 6,000 combinations per second, it would still take us over **20-times the life span of the universe** to run through all the possibilities."
   ]
  },
  {
   "cell_type": "markdown",
   "id": "53861169-a259-470f-9f04-23b3530ccb0e",
   "metadata": {},
   "source": [
    "## 4.3 Feature Selection with LASSO\n",
    "\n",
    "We saw previous that it was not possible to try every combination of features by hand. This is where LASSO saves the day for us. The idea behind LASSO is to augment the augment the cost function by adding an $L_1$-penalty term:\n",
    "$$ \\min_{\\beta} \\frac{1}{m}\\sum_{i=1}^{m}\\left( y^{(i)}-h_{\\beta}(x^{(i)})\\right)^2 + \\alpha\\sum_{i=1}^{n}\\left| \\beta_i \\right| $$\n",
    "where we use $h_{\\beta}(x)$ to denote the linear model $h_{\\beta}(x) = \\beta_0+\\beta_1x_1+\\ldots+\\beta_nx_n$. Because of the nature of the $L_1$-norm, the constraint region is a square and the optimal solution will almost always occur at the vertex of the square. Because of this fact, LASSO is able to a lot of the $\\beta$ components equal to 0 as it optimizes via gradient descent. \n",
    "\n",
    "The net effect: the model discards a lot of the useless features and only keeps features that are deemed cost-effective. The idea then is to **purposefully overload the model's capacity** for overfitting and slowly reel it back in via LASSO.\n",
    "- We can control how many parameters to keep or discard by tuning the hyperparameter $\\alpha$. Larger $\\alpha$ = higher penalty, so more features are discarded."
   ]
  },
  {
   "cell_type": "code",
   "execution_count": 10,
   "id": "aedee420-f451-4439-bf9b-d6f1ee5117aa",
   "metadata": {},
   "outputs": [],
   "source": [
    "# instantiate LASSO model\n",
    "lindhamk4_1 = Lasso(alpha=100, # alpha = 100 because we have 38,000+ featuers and need to almost all of them\n",
    "                    max_iter = 10_000\n",
    "                   ) "
   ]
  },
  {
   "cell_type": "markdown",
   "id": "aa9c1b05-c93e-4239-881b-20a78da1082f",
   "metadata": {},
   "source": [
    "- LASSO trains via gradient descent, so we need to scale the features or the descent might not be stable."
   ]
  },
  {
   "cell_type": "code",
   "execution_count": 11,
   "id": "02b10582-8751-47df-9b35-d989f8bacb3e",
   "metadata": {},
   "outputs": [],
   "source": [
    "# instantiate StandardScaler\n",
    "zscale = StandardScaler()\n",
    "\n",
    "# fit to X_train and transform inputs\n",
    "Xs_train = zscale.fit_transform(X_train)\n",
    "Xs_test = zscale.transform(X_test)\n",
    "Xs_kaggle = zscale.transform(Xkaggle)"
   ]
  },
  {
   "cell_type": "code",
   "execution_count": 12,
   "id": "d82f1f62-ca73-4f18-9d9f-502ec0d973e4",
   "metadata": {},
   "outputs": [],
   "source": [
    "# Here we fit the model. Training will take a nontrivial amount of time\n",
    "# so we comment out the code and load in a pre-trained model for the reader to use\n",
    "\n",
    "######################## Mirror Dimension ###########################\n",
    "# \n",
    "# lindhamk4_1.fit(Xs_train, y_train)\n",
    "# \n",
    "# joblib.dump(lindhamk4_1, '../saved-files/lindhamk4_1.pkl')\n",
    "#\n",
    "#########################################################\n",
    "\n",
    "lindhamk4_1 = joblib.load('../saved-files/lindhamk4_1.pkl')"
   ]
  },
  {
   "cell_type": "code",
   "execution_count": 13,
   "id": "ede3dbdc-bef9-4166-9f8b-ac1640c4731c",
   "metadata": {},
   "outputs": [
    {
     "name": "stdout",
     "output_type": "stream",
     "text": [
      " \n",
      "R2 :0.9929548448891432\n",
      "MSE: 43009293.7288303\n",
      "RMSE: 6558.147126195805\n",
      "MAE: 4312.618491787207\n",
      " \n",
      " \n",
      "R2 :0.9048017883463115\n",
      "MSE: 663382282.5881834\n",
      "RMSE: 25756.208622159113\n",
      "MAE: 16393.370162816835\n",
      " \n"
     ]
    }
   ],
   "source": [
    "jarvis.grade_model(lindhamk4_1, Xs_train, y_train, display=True);\n",
    "jarvis.grade_model(lindhamk4_1, Xs_test, y_test, display=True);"
   ]
  },
  {
   "cell_type": "code",
   "execution_count": 14,
   "id": "288c505c-362a-4b65-9c8c-b28500d8237d",
   "metadata": {},
   "outputs": [
    {
     "data": {
      "text/plain": [
       "1553"
      ]
     },
     "execution_count": 14,
     "metadata": {},
     "output_type": "execute_result"
    }
   ],
   "source": [
    "# Let's take a look at how many features Lasso decided to use:\n",
    "jarvis.support(lindhamk4_1)"
   ]
  },
  {
   "cell_type": "markdown",
   "id": "d4984c93-014f-4c62-81f3-9d6ad965da0a",
   "metadata": {},
   "source": [
    "- Our model decided to use 1553 features; this is causing some significant overfitting. \n",
    "- We can tame the overfitting by increasing the size of $\\alpha$, thereby forcing the model to use less features.\n",
    "- However, manually testing each individual $\\alpha$ is quite laborious. Since we've already automated the feature selection, we might as well automate the hyper parameter tuning via a **Grid Search**."
   ]
  },
  {
   "cell_type": "markdown",
   "id": "8fabfcfa-11dc-464f-9536-aae080528ee6",
   "metadata": {},
   "source": [
    "<br> \n",
    "\n",
    "## 4.4 Grid Search\n",
    "\n",
    "The idea of the Grid Search is very simple: just run through an exhaustive list of hyperparameters and return the hyperparameter with the best results."
   ]
  },
  {
   "cell_type": "code",
   "execution_count": 15,
   "id": "8c834485-d152-4f53-a21a-3c7714eade68",
   "metadata": {},
   "outputs": [],
   "source": [
    "# set up inputs for grid search\n",
    "model = Lasso()\n",
    "params = { 'alpha' : list( range(400,800,20) ) }"
   ]
  },
  {
   "cell_type": "code",
   "execution_count": 16,
   "id": "56c9f8b1-31ec-486c-8264-9445ec69586f",
   "metadata": {},
   "outputs": [],
   "source": [
    "# instantiate the GridSearchCV object\n",
    "lindhamk4_2 = GridSearchCV( model , # model to grade\n",
    "                             params, # paramters to try\n",
    "                             n_jobs=-1, # number of cpu-cores to use\n",
    "                             scoring = 'neg_root_mean_squared_error' # what metric to grade on\n",
    "                                                                     # NOTE: GridSearchCV actually does gradient ascent so it maximizes\n",
    "                                                                     # functions, hence the error scores must be negated.\n",
    "                           )"
   ]
  },
  {
   "cell_type": "code",
   "execution_count": 17,
   "id": "585ba7e1-1efb-4b9c-98cc-29a16a97cd84",
   "metadata": {},
   "outputs": [],
   "source": [
    "# Run grid search over all the listed values of alpha.\n",
    "# we have locked away the code for the GridSearchCV because\n",
    "# it takes a while to run. Instead the pre-searched model is\n",
    "# loaded from a save file.\n",
    "\n",
    "\n",
    "####################### Mirror Dimension ############################\n",
    "#\n",
    "# lindhamk4_2.fit(Xs_train, y_train)\n",
    "#\n",
    "# cross_val_score(Lasso(alpha=640), Xs_train, y_train, n_jobs=-1)\n",
    "#\n",
    "# joblib.dump(lindhamk4_2, '../saved-files/lindhamk4_2.pkl')\n",
    "#\n",
    "##############################################################\n",
    "\n",
    "\n",
    "\n",
    "# load pre-trained model so we don't have to keep re-searching\n",
    "# every time we restart the notebook!\n",
    "lindhamk4_2 = joblib.load('../saved-files/lindhamk4_2.pkl')"
   ]
  },
  {
   "cell_type": "code",
   "execution_count": 18,
   "id": "c7c56367-ab60-4e14-97aa-5d69d6450a4a",
   "metadata": {},
   "outputs": [
    {
     "data": {
      "text/plain": [
       "Lasso(alpha=640)"
      ]
     },
     "execution_count": 18,
     "metadata": {},
     "output_type": "execute_result"
    }
   ],
   "source": [
    "lindhamk4_2.best_estimator_"
   ]
  },
  {
   "cell_type": "code",
   "execution_count": 19,
   "id": "fa1edddf-8d8d-43fd-9963-db6ddab618d3",
   "metadata": {},
   "outputs": [
    {
     "name": "stdout",
     "output_type": "stream",
     "text": [
      " \n",
      "R2 :0.9691250350519321\n",
      "MSE: 188485621.02947116\n",
      "RMSE: 13729.006556538283\n",
      "MAE: 9831.647438565225\n",
      " \n",
      " \n",
      "R2 :0.9183782763399494\n",
      "MSE: 568775446.6161594\n",
      "RMSE: 23849.013535493654\n",
      "MAE: 14302.880990217034\n",
      " \n"
     ]
    }
   ],
   "source": [
    "jarvis.grade_model(lindhamk4_2, Xs_train, y_train, display=True), jarvis.grade_model(lindhamk4_2, Xs_test, y_test, display=True);"
   ]
  },
  {
   "cell_type": "code",
   "execution_count": 20,
   "id": "01b7ce65-b932-4081-9dae-164d94ca2aad",
   "metadata": {},
   "outputs": [
    {
     "data": {
      "image/png": "[encoded data removed]",
      "text/plain": [
       "<Figure size 1440x576 with 1 Axes>"
      ]
     },
     "metadata": {
      "needs_background": "light"
     },
     "output_type": "display_data"
    }
   ],
   "source": [
    "jarvis.plot_residuals(lindhamk4_2, Xs_test, y_test)"
   ]
  },
  {
   "cell_type": "markdown",
   "id": "6df85bac-2dc2-4fb8-97f9-8ec703b1ed40",
   "metadata": {},
   "source": [
    "# 4.5 More Tuning\n",
    "\n",
    "It seems the model isn't as good as the Mk 3 model where we engineered features by hand. Let's try running LASSO on the Mk 3's training set to see if we can improve it."
   ]
  },
  {
   "cell_type": "code",
   "execution_count": 21,
   "id": "d7bcc01e-ab3f-4765-831b-d73c7ff17f0f",
   "metadata": {},
   "outputs": [
    {
     "data": {
      "text/plain": [
       "(2928, 97)"
      ]
     },
     "execution_count": 21,
     "metadata": {},
     "output_type": "execute_result"
    }
   ],
   "source": [
    "# drop outlier value\n",
    "train.drop(index=2181, inplace=True)\n",
    "y = train['SalePrice']\n",
    "\n",
    "# use engineered features from Mk 3\n",
    "data = pd.read_csv('../data/ames-engineered.csv', index_col='Id').drop(columns = ['SalePrice', '1st Flr SF', '2nd Flr SF'] )\n",
    "\n",
    "data.shape"
   ]
  },
  {
   "cell_type": "code",
   "execution_count": 22,
   "id": "bbde1c2c-f74d-430f-ba82-3d3a5342adf0",
   "metadata": {},
   "outputs": [
    {
     "data": {
      "text/plain": [
       "Index(['MS SubClass', 'MS Zoning', 'Lot Frontage', 'Lot Area', 'Street',\n",
       "       'Alley', 'Lot Shape', 'Land Contour', 'Utilities', 'Lot Config',\n",
       "       'Land Slope', 'Neighborhood', 'Condition 1', 'Condition 2', 'Bldg Type',\n",
       "       'House Style', 'Overall Qual', 'Overall Cond', 'Year Built',\n",
       "       'Year Remod/Add', 'Roof Style', 'Roof Matl', 'Exterior 1st',\n",
       "       'Exterior 2nd', 'Mas Vnr Type', 'Mas Vnr Area', 'Exter Qual',\n",
       "       'Exter Cond', 'Foundation', 'Bsmt Qual', 'Bsmt Cond', 'Bsmt Exposure',\n",
       "       'BsmtFin Type 1', 'BsmtFin SF 1', 'BsmtFin Type 2', 'BsmtFin SF 2',\n",
       "       'Bsmt Unf SF', 'Total Bsmt SF', 'Heating', 'Heating QC', 'Central Air',\n",
       "       'Electrical', 'Low Qual Fin SF', 'Gr Liv Area', 'Bsmt Full Bath',\n",
       "       'Bsmt Half Bath', 'Full Bath', 'Half Bath', 'Bedroom AbvGr',\n",
       "       'Kitchen AbvGr', 'Kitchen Qual', 'TotRms AbvGrd', 'Functional',\n",
       "       'Fireplaces', 'Fireplace Qu', 'Garage Type', 'Garage Yr Blt',\n",
       "       'Garage Finish', 'Garage Cars', 'Garage Area', 'Garage Qual',\n",
       "       'Garage Cond', 'Paved Drive', 'Wood Deck SF', 'Open Porch SF',\n",
       "       'Enclosed Porch', '3Ssn Porch', 'Screen Porch', 'Pool Area', 'Pool QC',\n",
       "       'Fence', 'Misc Feature', 'Misc Val', 'Lot Shape_ord', 'Exter Qual_ord',\n",
       "       'Exter Cond_ord', 'Bsmt Qual_ord', 'Bsmt Cond_ord', 'Bsmt Exposure_ord',\n",
       "       'BsmtFin Type 1_ord', 'BsmtFin Type 2_ord', 'Heating QC_ord',\n",
       "       'Pool QC_ord', 'Kitchen Qual_ord', 'Functional_ord', 'Fireplace Qu_ord',\n",
       "       'Garage Qual_ord', 'Garage Cond_ord', 'Fence_ord',\n",
       "       '1st Flr SF + 2nd Flr SF', 'Lot Area_sqrt', 'Gr Liv Area_sqrt',\n",
       "       '1st Flr SF_sqrt', '2nd Flr SF_sqrt', 'Mas Vnr Area_sqrt',\n",
       "       'Total Bsmt SF_sqrt', 'Garage Area_sqrt'],\n",
       "      dtype='object')"
      ]
     },
     "execution_count": 22,
     "metadata": {},
     "output_type": "execute_result"
    }
   ],
   "source": [
    "# locate the sqrt features and slice them out\n",
    "data.columns"
   ]
  },
  {
   "cell_type": "code",
   "execution_count": 23,
   "id": "96584c1c-b2a9-4d55-a481-07ed9e8ee720",
   "metadata": {},
   "outputs": [],
   "source": [
    "data = data.iloc[:, :90]"
   ]
  },
  {
   "cell_type": "code",
   "execution_count": 24,
   "id": "289c8ee3-3778-4cc9-8b78-8427fa078591",
   "metadata": {},
   "outputs": [
    {
     "data": {
      "text/plain": [
       "Index(['MS SubClass', 'MS Zoning', 'Lot Frontage', 'Lot Area', 'Street',\n",
       "       'Alley', 'Lot Shape', 'Land Contour', 'Utilities', 'Lot Config',\n",
       "       'Land Slope', 'Neighborhood', 'Condition 1', 'Condition 2', 'Bldg Type',\n",
       "       'House Style', 'Overall Qual', 'Overall Cond', 'Year Built',\n",
       "       'Year Remod/Add', 'Roof Style', 'Roof Matl', 'Exterior 1st',\n",
       "       'Exterior 2nd', 'Mas Vnr Type', 'Mas Vnr Area', 'Exter Qual',\n",
       "       'Exter Cond', 'Foundation', 'Bsmt Qual', 'Bsmt Cond', 'Bsmt Exposure',\n",
       "       'BsmtFin Type 1', 'BsmtFin SF 1', 'BsmtFin Type 2', 'BsmtFin SF 2',\n",
       "       'Bsmt Unf SF', 'Total Bsmt SF', 'Heating', 'Heating QC', 'Central Air',\n",
       "       'Electrical', 'Low Qual Fin SF', 'Gr Liv Area', 'Bsmt Full Bath',\n",
       "       'Bsmt Half Bath', 'Full Bath', 'Half Bath', 'Bedroom AbvGr',\n",
       "       'Kitchen AbvGr', 'Kitchen Qual', 'TotRms AbvGrd', 'Functional',\n",
       "       'Fireplaces', 'Fireplace Qu', 'Garage Type', 'Garage Yr Blt',\n",
       "       'Garage Finish', 'Garage Cars', 'Garage Area', 'Garage Qual',\n",
       "       'Garage Cond', 'Paved Drive', 'Wood Deck SF', 'Open Porch SF',\n",
       "       'Enclosed Porch', '3Ssn Porch', 'Screen Porch', 'Pool Area', 'Pool QC',\n",
       "       'Fence', 'Misc Feature', 'Misc Val', 'Lot Shape_ord', 'Exter Qual_ord',\n",
       "       'Exter Cond_ord', 'Bsmt Qual_ord', 'Bsmt Cond_ord', 'Bsmt Exposure_ord',\n",
       "       'BsmtFin Type 1_ord', 'BsmtFin Type 2_ord', 'Heating QC_ord',\n",
       "       'Pool QC_ord', 'Kitchen Qual_ord', 'Functional_ord', 'Fireplace Qu_ord',\n",
       "       'Garage Qual_ord', 'Garage Cond_ord', 'Fence_ord',\n",
       "       '1st Flr SF + 2nd Flr SF'],\n",
       "      dtype='object')"
      ]
     },
     "execution_count": 24,
     "metadata": {},
     "output_type": "execute_result"
    }
   ],
   "source": [
    "data.columns"
   ]
  },
  {
   "cell_type": "code",
   "execution_count": 25,
   "id": "c75f63e9-c6f5-466f-ad37-10ca79776ac3",
   "metadata": {},
   "outputs": [
    {
     "name": "stderr",
     "output_type": "stream",
     "text": [
      "C:\\Users\\herma\\anaconda3\\lib\\site-packages\\pandas\\core\\algorithms.py:798: FutureWarning: In a future version, the Index constructor will not infer numeric dtypes when passed object-dtype sequences (matching Series behavior)\n",
      "  uniques = Index(uniques)\n"
     ]
    }
   ],
   "source": [
    "data['MS SubClass'] = data['MS SubClass'].astype('object')\n",
    "\n",
    "# prepare data set\n",
    "data_dummies = pd.get_dummies(data, drop_first=True)"
   ]
  },
  {
   "cell_type": "code",
   "execution_count": 26,
   "id": "4e724047-ebaa-46dd-b90e-75252aa3b3ac",
   "metadata": {},
   "outputs": [],
   "source": [
    "data_poly = pd.DataFrame(poly.fit_transform(data_dummies), index=data_dummies.index, columns=poly.get_feature_names_out(data_dummies.columns))\n",
    "\n",
    "\n",
    "X_poly = data_poly[ : m-1 ]\n",
    "Xkaggle = data_poly[ m-1 : ]\n",
    "\n",
    "X_train, X_test, y_train, y_test = train_test_split(X_poly, y, test_size=0.2, random_state=seed)"
   ]
  },
  {
   "cell_type": "code",
   "execution_count": 27,
   "id": "b70df1e3-a095-4220-af58-da01fa74b3e9",
   "metadata": {},
   "outputs": [],
   "source": [
    "# scale data\n",
    "Xs_train = zscale.fit_transform(X_train)\n",
    "Xs_test = zscale.transform(X_test)\n",
    "Xs_kaggle = zscale.transform(Xkaggle)"
   ]
  },
  {
   "cell_type": "code",
   "execution_count": 28,
   "id": "8bc90553-9810-475a-9cd1-ca0c847d7efd",
   "metadata": {},
   "outputs": [
    {
     "data": {
      "text/plain": [
       "(1640, 42194)"
      ]
     },
     "execution_count": 28,
     "metadata": {},
     "output_type": "execute_result"
    }
   ],
   "source": [
    "# check out the shape of our training set\n",
    "Xs_train.shape"
   ]
  },
  {
   "cell_type": "code",
   "execution_count": 29,
   "id": "398438a6-fa6c-4dff-ab61-2a1e4b786f51",
   "metadata": {},
   "outputs": [],
   "source": [
    "# create parameter \"grid\" for grid search\n",
    "params = { 'alpha' : list( range(600, 2000, 20) ) }"
   ]
  },
  {
   "cell_type": "code",
   "execution_count": 30,
   "id": "4363b658-bf23-4b42-8da3-d89d4b301c7f",
   "metadata": {},
   "outputs": [],
   "source": [
    "lindhamk4_3 = GridSearchCV( \n",
    "                            estimator = Lasso(max_iter=10_000),\n",
    "                            param_grid = params, \n",
    "                            n_jobs=-1,\n",
    "                            scoring = 'neg_root_mean_squared_error',\n",
    "                            verbose=2,\n",
    "                        )\n",
    "                  "
   ]
  },
  {
   "cell_type": "code",
   "execution_count": 31,
   "id": "62953289-523d-4e12-931c-4a2fc17650a5",
   "metadata": {},
   "outputs": [],
   "source": [
    "##################### Mirror Dimension ################################\n",
    "#\n",
    "# lindhamk4_3.fit(Xs_train, y_train)\n",
    "#\n",
    "# joblib.dump(lindhamk4_3, '../saved-files/lindhamk4_3.pkl')\n",
    "#\n",
    "##################################################################\n",
    "\n",
    "lindhamk4_3 = joblib.load('../saved-files/lindhamk4_3.pkl')"
   ]
  },
  {
   "cell_type": "code",
   "execution_count": 32,
   "id": "c1de8c3a-2150-45c8-b720-d502428b32a0",
   "metadata": {},
   "outputs": [
    {
     "data": {
      "text/plain": [
       "Lasso(alpha=800, max_iter=10000)"
      ]
     },
     "execution_count": 32,
     "metadata": {},
     "output_type": "execute_result"
    }
   ],
   "source": [
    "lindhamk4_3.best_estimator_"
   ]
  },
  {
   "cell_type": "code",
   "execution_count": 33,
   "id": "9e1e950e-27a0-4329-8927-97b738e29456",
   "metadata": {},
   "outputs": [
    {
     "name": "stdout",
     "output_type": "stream",
     "text": [
      " \n",
      "R2 :0.9662245642352453\n",
      "MSE: 210182932.46172053\n",
      "RMSE: 14497.687141807155\n",
      "MAE: 10626.060975272812\n",
      " \n",
      " \n",
      "R2 :0.917343917758283\n",
      "MSE: 538594182.1954808\n",
      "RMSE: 23207.631981645194\n",
      "MAE: 13761.633337612042\n",
      " \n"
     ]
    }
   ],
   "source": [
    "jarvis.grade_model(lindhamk4_3, Xs_train, y_train, display=True), jarvis.grade_model(lindhamk4_3, Xs_test, y_test, display=True);"
   ]
  },
  {
   "cell_type": "code",
   "execution_count": 34,
   "id": "1e41e8d7-b137-42c0-82d8-12febcede11f",
   "metadata": {},
   "outputs": [],
   "source": [
    "# Try searching a different set of parameters\n",
    "params2 = { 'alpha' : list( range(600, 650, 10) ) }"
   ]
  },
  {
   "cell_type": "code",
   "execution_count": 35,
   "id": "e28bb41a-8881-4694-9392-a5fec8f3284a",
   "metadata": {},
   "outputs": [],
   "source": [
    "lindhamk4_4 = GridSearchCV( \n",
    "                            estimator = Lasso(max_iter=10_000),\n",
    "                            param_grid = params2, \n",
    "                            n_jobs=-1,\n",
    "                            scoring = 'neg_root_mean_squared_error',\n",
    "                            verbose=2,\n",
    "                            cv=5\n",
    "                        )"
   ]
  },
  {
   "cell_type": "code",
   "execution_count": 36,
   "id": "7599c6eb-7bda-48cc-a31c-7ea824e918ca",
   "metadata": {},
   "outputs": [],
   "source": [
    "######################### Mirror Dimension #############################\n",
    "#\n",
    "#lindhamk4_4.fit(Xs_train, y_train)\n",
    "#\n",
    "#joblib.dump(lindhamk4_4, '../saved-files/lindhamk4_4.pkl')\n",
    "#\n",
    "#############################################################\n",
    "\n",
    "\n",
    "lindhamk4_4=joblib.load('../saved-files/lindhamk4_4.pkl')"
   ]
  },
  {
   "cell_type": "code",
   "execution_count": 37,
   "id": "3c51e66a-3bb3-4748-8e0f-611bcc00dcf5",
   "metadata": {},
   "outputs": [
    {
     "data": {
      "text/plain": [
       "Lasso(alpha=640, max_iter=10000)"
      ]
     },
     "execution_count": 37,
     "metadata": {},
     "output_type": "execute_result"
    }
   ],
   "source": [
    "lindhamk4_4.best_estimator_"
   ]
  },
  {
   "cell_type": "code",
   "execution_count": 38,
   "id": "e54dad6f-57a3-4247-b0c4-7c375c2a469e",
   "metadata": {},
   "outputs": [
    {
     "name": "stdout",
     "output_type": "stream",
     "text": [
      " \n",
      "R2 :0.9713334309251276\n",
      "MSE: 178390697.7170845\n",
      "RMSE: 13356.29805436688\n",
      "MAE: 9812.04357189086\n",
      " \n",
      " \n",
      "R2 :0.9183248362733244\n",
      "MSE: 532202432.2954051\n",
      "RMSE: 23069.513048510693\n",
      "MAE: 13565.74838246168\n",
      " \n"
     ]
    }
   ],
   "source": [
    "jarvis.grade_model(lindhamk4_4, Xs_train, y_train, display=True), jarvis.grade_model(lindhamk4_4, Xs_test, y_test, display=True);"
   ]
  },
  {
   "cell_type": "code",
   "execution_count": 39,
   "id": "9a5c63da-3d0d-4e8b-a766-54206c2929fc",
   "metadata": {},
   "outputs": [
    {
     "data": {
      "text/plain": [
       "492"
      ]
     },
     "execution_count": 39,
     "metadata": {},
     "output_type": "execute_result"
    }
   ],
   "source": [
    "jarvis.support(lindhamk4_4.best_estimator_)"
   ]
  },
  {
   "cell_type": "code",
   "execution_count": 40,
   "id": "7fa1a2cd-26b4-4943-ba9b-e1cfe4d52897",
   "metadata": {},
   "outputs": [],
   "source": [
    "# save features\n",
    "# this takes awhile because the dataframe is gigantic :(\n",
    "\n",
    "# data_poly.to_csv('../data/ames-poly-engineered.csv')"
   ]
  },
  {
   "cell_type": "markdown",
   "id": "d753f7f7-660d-4810-8baf-cb162479eb2c",
   "metadata": {},
   "source": [
    "Seems we've reached an asymptotic point with LASSO. On the one hand, we optimized it for RMSE and not R2-score. On the other hand the R2 score is still respectable.\n",
    "\n",
    "One caveat about LASSO: it generally tends to underfit because it will always pick only one feature out of a multi-collinear set of features. Thus, it might be the case that the LASSO model is throwing away features that are not cost-efficient but provide the granular detail it needs to make more accurate predictions.\n",
    "\n",
    "There is an solution to this possible problem: Ridge (which we explore in the next notebook)."
   ]
  },
  {
   "cell_type": "code",
   "execution_count": null,
   "id": "6e49ec4a-9cf7-40f7-add9-a40fbd6f27a4",
   "metadata": {},
   "outputs": [],
   "source": [
    "lindhamk4_final = Lasso(alpha=600, max_iter=10_000)\n",
    "\n",
    "lindhamk4_final.fit(Xs_train, y_train)"
   ]
  },
  {
   "cell_type": "code",
   "execution_count": null,
   "id": "0eec7f7b-d4a3-4cdf-9414-ad6dc0623408",
   "metadata": {},
   "outputs": [],
   "source": [
    "# check number of non-zero features\n",
    "jarvis.support(lindhamk4_final)"
   ]
  },
  {
   "cell_type": "code",
   "execution_count": null,
   "id": "035cfe86-6c30-41cb-9974-215337cd121d",
   "metadata": {},
   "outputs": [],
   "source": [
    "# prepare kaggle submissions\n",
    "submissions = pd.read_csv('../data/test.csv', index_col='Id')\n"
   ]
  },
  {
   "cell_type": "code",
   "execution_count": null,
   "id": "f79a3218-90dc-472a-b5d0-5bd6d4d54aa8",
   "metadata": {},
   "outputs": [],
   "source": [
    "submissions['SalePrice']=lindhamk4_final.predict(Xs_kaggle)"
   ]
  },
  {
   "cell_type": "code",
   "execution_count": null,
   "id": "4fa769f7-ae4f-4788-80a4-9cd6d195eb25",
   "metadata": {},
   "outputs": [],
   "source": [
    "submissions[['SalePrice']].to_csv('../data/lindhamk4-submissions.csv')"
   ]
  },
  {
   "cell_type": "code",
   "execution_count": null,
   "id": "7a762dc8-4985-4168-bd1f-1ed9995c8975",
   "metadata": {},
   "outputs": [],
   "source": []
  },
  {
   "cell_type": "code",
   "execution_count": null,
   "id": "d178d6c8-9c85-402c-b883-c6f76d3c8367",
   "metadata": {},
   "outputs": [],
   "source": []
  }
 ],
 "metadata": {
  "kernelspec": {
   "display_name": "Python 3 (ipykernel)",
   "language": "python",
   "name": "python3"
  },
  "language_info": {
   "codemirror_mode": {
    "name": "ipython",
    "version": 3
   },
   "file_extension": ".py",
   "mimetype": "text/x-python",
   "name": "python",
   "nbconvert_exporter": "python",
   "pygments_lexer": "ipython3",
   "version": "3.9.7"
  }
 },
 "nbformat": 4,
 "nbformat_minor": 5
}
